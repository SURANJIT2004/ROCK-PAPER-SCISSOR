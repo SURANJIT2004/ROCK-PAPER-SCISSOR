{
 "cells": [
  {
   "cell_type": "code",
   "execution_count": 1,
   "id": "24d8bbca",
   "metadata": {},
   "outputs": [
    {
     "name": "stdout",
     "output_type": "stream",
     "text": [
      "Enter your choice (rock, paper, scissors): rock\n",
      "You chose: rock\n",
      "Computer chose: paper\n",
      "You lose! ' BETTER LUCK NEXT TIME OR PLAY AGAIN  '\n",
      "Play again? (yes/no): yes\n",
      "Enter your choice (rock, paper, scissors): rock\n",
      "You chose: rock\n",
      "Computer chose: paper\n",
      "You lose! ' BETTER LUCK NEXT TIME OR PLAY AGAIN  '\n",
      "Play again? (yes/no): no\n",
      " 'THANKS FOR PLAYING HOPE YOU ENJOY. IF YOU WANT YOU CAN PLAY AGAIN' \n"
     ]
    }
   ],
   "source": [
    "# [ROCK ; PAPER ; SCISSOR] GAME\n",
    "\n",
    "\n",
    "\n",
    "import random\n",
    "\n",
    "\n",
    "def play():\n",
    "    choices = [\"rock\" , \"paper\" , \"scissors\"]                                      # Available options\n",
    "    user_choice = input(\"Enter your choice (rock, paper, scissors): \").lower()    # Get user input\n",
    "    if user_choice not in choices:                                                # Check for valid input\n",
    "        print(\"Invalid choice. 'PLEASE ENTER THE VALID CHOICES AS PER THE GIVEN CHOICES'\")\n",
    "        return\n",
    "\n",
    "    computer_choice = random.choice(choices)                                   # Computer randomly chooses an option\n",
    "    print(f\"You chose: {user_choice}\")                                         # Print the user and computer choices\n",
    "    print(f\"Computer chose: {computer_choice}\")\n",
    "\n",
    "  # Determine the winner\n",
    "    if user_choice == computer_choice:\n",
    "        print(\"It's a tie! ' DO YOU WANT TO PLAY AGAIN ' \")\n",
    "    elif (user_choice == \"rock\" and computer_choice == \"scissors\") or \\\n",
    "       (user_choice == \"paper\" and computer_choice == \"rock\") or \\\n",
    "       (user_choice == \"scissors\" and computer_choice == \"paper\"):\n",
    "        print(\"You win! 'CONGRATULATION AND GIVE US A PARTY' \")\n",
    "    else:\n",
    "        print(\"You lose! ' BETTER LUCK NEXT TIME OR PLAY AGAIN  '\")\n",
    "\n",
    "        \n",
    "# Play the game\n",
    "play()\n",
    "\n",
    "\n",
    "# Ask if the user wants to play again\n",
    "while True:\n",
    "    play_again = input(\"Play again? (yes/no): \").lower()\n",
    "    if play_again not in (\"yes\", \"no\"):\n",
    "        print(\"Invalid input.' PLEASE ANSWER IN 'yes' or 'no' '.\")\n",
    "        continue\n",
    "    if play_again == \"no\":\n",
    "        break\n",
    "    play()\n",
    "\n",
    "print(\" 'THANKS FOR PLAYING HOPE YOU ENJOY. IF YOU WANT YOU CAN PLAY AGAIN' \")\n"
   ]
  },
  {
   "cell_type": "code",
   "execution_count": null,
   "id": "62d9a41d",
   "metadata": {},
   "outputs": [],
   "source": []
  }
 ],
 "metadata": {
  "kernelspec": {
   "display_name": "Python 3 (ipykernel)",
   "language": "python",
   "name": "python3"
  },
  "language_info": {
   "codemirror_mode": {
    "name": "ipython",
    "version": 3
   },
   "file_extension": ".py",
   "mimetype": "text/x-python",
   "name": "python",
   "nbconvert_exporter": "python",
   "pygments_lexer": "ipython3",
   "version": "3.11.5"
  }
 },
 "nbformat": 4,
 "nbformat_minor": 5
}
